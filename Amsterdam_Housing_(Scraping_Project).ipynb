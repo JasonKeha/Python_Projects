{
  "nbformat": 4,
  "nbformat_minor": 0,
  "metadata": {
    "colab": {
      "provenance": [],
      "collapsed_sections": [],
      "toc_visible": true,
      "authorship_tag": "ABX9TyNF7stW6HeEsoXuL3YqKhIc",
      "include_colab_link": true
    },
    "kernelspec": {
      "name": "python3",
      "display_name": "Python 3"
    },
    "language_info": {
      "name": "python"
    }
  },
  "cells": [
    {
      "cell_type": "markdown",
      "metadata": {
        "id": "view-in-github",
        "colab_type": "text"
      },
      "source": [
        "<a href=\"https://colab.research.google.com/github/JasonKeha/Python_Projects/blob/main/Amsterdam_Housing_(Scraping_Project).ipynb\" target=\"_parent\"><img src=\"https://colab.research.google.com/assets/colab-badge.svg\" alt=\"Open In Colab\"/></a>"
      ]
    },
    {
      "cell_type": "markdown",
      "source": [
        "## Python data scraping project"
      ],
      "metadata": {
        "id": "1eOfLAF_vHBM"
      }
    },
    {
      "cell_type": "markdown",
      "source": [
        "Needed libraries are below"
      ],
      "metadata": {
        "id": "Gjme8yxquuIz"
      }
    },
    {
      "cell_type": "code",
      "execution_count": 45,
      "metadata": {
        "id": "QG9MN4j6rOrN"
      },
      "outputs": [],
      "source": [
        "import requests\n",
        "from bs4 import BeautifulSoup\n",
        "from csv import writer\n",
        "import os.path\n",
        "from os import path \n",
        "from statistics import mean\n",
        "import sys\n",
        "from math import ceil"
      ]
    },
    {
      "cell_type": "markdown",
      "source": [
        "Checking if the final file already exists"
      ],
      "metadata": {
        "id": "t0iy-4ruvS74"
      }
    },
    {
      "cell_type": "code",
      "source": [
        "if path.exists('Amsterdam_Housing.csv'):\n",
        "    print('File already exists!!')  \n",
        "    while True:\n",
        "        delete = input('Delete file to proceed?(Yes, No) : ').lower().strip()\n",
        "        if delete != 'yes' and delete != 'no':\n",
        "            print('\\nPlease enter Yes or No!!\\n')\n",
        "            continue\n",
        "        if delete == 'yes':\n",
        "            os.remove('Amsterdam_Housing.csv')\n",
        "            break\n",
        "        else:\n",
        "            print('\\nCant run because file already exists...')\n",
        "            sys.exit()"
      ],
      "metadata": {
        "id": "ifuFHQYnvsVg",
        "colab": {
          "base_uri": "https://localhost:8080/"
        },
        "outputId": "28c27d1b-f322-464b-d460-0b957f120786"
      },
      "execution_count": 46,
      "outputs": [
        {
          "name": "stdout",
          "output_type": "stream",
          "text": [
            "File already exists!!\n",
            "Delete file to proceed?(Yes, No) : yes\n"
          ]
        }
      ]
    },
    {
      "cell_type": "markdown",
      "source": [
        "Function for extracting the total listings and the website content\n",
        "- First time this function is running, it is going to return the total rent listings \n",
        "- Second time and afterwards, it is going to return the total content of the page\n",
        "- After the second time running, the change in the page variable is going to lead to the url changing to the second, (third, fourth, etc) webpage of rent listings"
      ],
      "metadata": {
        "id": "mF07jwrA2dNW"
      }
    },
    {
      "cell_type": "code",
      "source": [
        "def extract(page, first_time):\n",
        "    url = f'https://www.pararius.com/apartments/amsterdam/page-{page}'\n",
        "    www = requests.get(url)\n",
        "    soup = BeautifulSoup(www.content, 'html.parser')\n",
        "    if first_time is True:\n",
        "        total_listings = int(soup.find('span', class_=\"search-list-header__count\").getText())\n",
        "        return total_listings\n",
        "    else:\n",
        "        return soup"
      ],
      "metadata": {
        "id": "H9Y_WYdL0zIe"
      },
      "execution_count": 47,
      "outputs": []
    },
    {
      "cell_type": "markdown",
      "source": [
        "Function for copying the correct webpage details and appending them to a csv file\n",
        "* I take all the variables then convert the numeric ones to integers  \n",
        "* I then \"paste\" them to a newly created csv file\n",
        "* The first time this function runs I also create headers for that csv file   \n",
        "\n"
      ],
      "metadata": {
        "id": "NSQFfaf7AkYs"
      }
    },
    {
      "cell_type": "code",
      "source": [
        "def transform(soup):\n",
        "    global posting\n",
        "    lists = soup.find_all('section', class_='listing-search-item')\n",
        "    for list in lists:\n",
        "      if posting <= total_postings:\n",
        "        name = list.find('a', class_='listing-search-item__link listing-search-item__link--title').getText().strip()\n",
        "        location = list.find('div', class_='listing-search-item__sub-title').getText().strip()\n",
        "        price = list.find('div', class_='listing-search-item__price').text\n",
        "        area = list.find('li', class_='illustrated-features__item illustrated-features__item--surface-area').getText().strip()\n",
        "        rooms = list.find('li', class_='illustrated-features__item illustrated-features__item--number-of-rooms').getText().strip()\n",
        "        company = list.find('div', class_='listing-search-item__info').getText().strip() \n",
        "        try:\n",
        "          furniture = list.find('li', class_='illustrated-features__item illustrated-features__item--interior').getText().strip()\n",
        "        except AttributeError:\n",
        "          furniture = 'Not Provided'\n",
        "        try:\n",
        "          age = list.find('li', class_='illustrated-features__item illustrated-features__item--construction-period').getText().strip()\n",
        "        except AttributeError:  \n",
        "          age = 'Not Provided'\n",
        "        area = int(area[0:3])\n",
        "        if '-' in price:\n",
        "          price = ''.join([numsymb for numsymb in price if numsymb.isalpha() == False and numsymb != '€' and numsymb != ',' and numsymb != ' '])\n",
        "          price_list = price.split('-')\n",
        "          price = [int(i) for i in price_list]\n",
        "          price = round(mean(price), 0)\n",
        "          price_per_m = int(price/area)\n",
        "        else: \n",
        "          price = int(''.join([number for number in price if number.isdigit()]))\n",
        "          price_per_m = int(price/area)\n",
        "        rooms = int(''.join([number for number in rooms if number.isdigit()]))\n",
        "\n",
        "        info = [name, location, price, area, price_per_m, rooms, furniture, age, company]\n",
        "        with open('Amsterdam_Housing.csv', 'a', encoding='utf8', newline='') as f:\n",
        "          thewriter = writer(f)\n",
        "          if posting == 1 and page == 1:\n",
        "            header = ['Name', 'Location', 'Price in Euro', 'Area m²', 'Price per m²', 'Rooms', 'Furniture', 'Age', 'Company']\n",
        "            thewriter.writerow(header)\n",
        "          thewriter.writerow(info)\n",
        "        posting += 1\n",
        "      else:\n",
        "        return 0"
      ],
      "metadata": {
        "id": "sB_WoPo345L-"
      },
      "execution_count": 48,
      "outputs": []
    },
    {
      "cell_type": "markdown",
      "source": [
        "Assigning the page, rent posting and finding the total rent listings "
      ],
      "metadata": {
        "id": "sM2ypIcC_VJc"
      }
    },
    {
      "cell_type": "code",
      "source": [
        "page = 1\n",
        "posting = 1\n",
        "total_listings = extract(page, True)"
      ],
      "metadata": {
        "id": "P-XoU61Y_TKB"
      },
      "execution_count": 49,
      "outputs": []
    },
    {
      "cell_type": "markdown",
      "source": [
        "Asking the user the total rent listings he wants the program to take from the webpage"
      ],
      "metadata": {
        "id": "XI7jhpwTAIOO"
      }
    },
    {
      "cell_type": "code",
      "source": [
        "while True:\n",
        "    total_postings =input(f'\\nInput the total number of listings you want me to look at.\\nMinimum Number (32)\\nRecommended Number ({total_listings}): ')\n",
        "    if total_postings.isdigit():\n",
        "        total_postings = int(total_postings)\n",
        "        print(total_postings)\n",
        "        total_pages = ceil(total_postings/32)\n",
        "        print(f'Processing {total_pages} pages\\n')\n",
        "        break\n",
        "    else:\n",
        "        print('Please enter a number next time!! \\n')"
      ],
      "metadata": {
        "id": "Apqn79PECS9L",
        "colab": {
          "base_uri": "https://localhost:8080/"
        },
        "outputId": "21bc2166-b4c9-4f77-a385-f42a536f29dd"
      },
      "execution_count": 50,
      "outputs": [
        {
          "output_type": "stream",
          "name": "stdout",
          "text": [
            "\n",
            "Input the total number of listings you want me to look at.\n",
            "Minimum Number (32)\n",
            "Recommended Number (649): 99\n",
            "99\n",
            "Processing 4 pages\n",
            "\n"
          ]
        }
      ]
    },
    {
      "cell_type": "markdown",
      "source": [
        "Place that all the functions run"
      ],
      "metadata": {
        "id": "62sY55AICjXC"
      }
    },
    {
      "cell_type": "code",
      "source": [
        "while page <= total_pages:\n",
        "    soup = extract(page, False)\n",
        "    transform(soup)\n",
        "    page += 1"
      ],
      "metadata": {
        "id": "ytofcAfNCthK"
      },
      "execution_count": 51,
      "outputs": []
    },
    {
      "cell_type": "markdown",
      "source": [
        "Final Message to the user"
      ],
      "metadata": {
        "id": "6o8QjOEKDza0"
      }
    },
    {
      "cell_type": "code",
      "source": [
        "print('\\nCheck the newly attached csv file for results.\\nTo properly open a csv file in Microsoft Excel you can check Youtube.')"
      ],
      "metadata": {
        "id": "VO1ttO-7D1YP"
      },
      "execution_count": null,
      "outputs": []
    }
  ]
}